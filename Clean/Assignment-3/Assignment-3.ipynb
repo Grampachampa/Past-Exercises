{
 "cells": [
  {
   "cell_type": "markdown",
   "metadata": {},
   "source": [
    "# XB_0082 - Assignment 3 (2022-2023)\n",
    "\n",
    "### Logical Thinking\n",
    "\n",
    "This Jupyter notebook aims to get you started with logical thinking. We will learn how to analyse a computational problem. That is, we will learn how to identify the main elements (e.g. inputs, output, instructions) of the problem in order to create a program that offers a concrete solution."
   ]
  },
  {
   "cell_type": "markdown",
   "metadata": {},
   "source": [
    "## Table of Contents\n",
    "<div class=\"toc\" style=\"margin-top: 1em;\">\n",
    "    <ul class=\"toc-item\">\n",
    "        <li>\n",
    "            <span><a href=\"#Introduction-to-this-template-notebook\" data-toc-modified-id=\"Introduction-to-this-template-notebook\">Introduction to this template notebook</a></span>\n",
    "        </li>\n",
    "        <li>\n",
    "            <span><a href=\"#The-String-Game\" data-toc-modified-id=\"The-String-Game\">The String Game</a></span>\n",
    "        </li>\n",
    "        <li>\n",
    "            <span><a href=\"#Task-1:-Finding-Vowels\" data-toc-modified-id=\"Task-1:-Finding-Vowels\">Task 1: Finding Vowels</a></span>\n",
    "        </li>\n",
    "        <li>\n",
    "            <span><a href=\"#Task-2:-Counting-Vowels-&-Consonants\" data-toc-modified-id=\"Task-2:-Counting-Vowels-&-Consonants\">Task 2: Counting Vowels & Consonants</a></span>\n",
    "        </li>\n",
    "        <li>\n",
    "            <span><a href=\"#Task-3:-All-Possible-Substrings\" data-toc-modified-id=\"Task-3:-All-Possible-Substrings\">Task 3: All Possible Substrings</a></span>\n",
    "        </li>\n",
    "        <li>\n",
    "            <span><a href=\"#Task-4:-Play-the-Game\" data-toc-modified-id=\"Task-4:-Play-the-Game\">Task 4: Play the Game</a></span>\n",
    "        </li>\n",
    "        <li>\n",
    "            <span><a href=\"#Task-5:-Advance-String-Game\" data-toc-modified-id=\"Task-5:-Advance-String-Game\">Task 5: Advance String Game</a></span>\n",
    "        </li>\n",
    "    </ul>\n",
    "</div>"
   ]
  },
  {
   "cell_type": "markdown",
   "metadata": {},
   "source": [
    "`#// BEGIN_COMMON [First] First Things First Section Exercises`\n",
    "\n",
    "`#// END_COMMON [First]`"
   ]
  },
  {
   "cell_type": "code",
   "execution_count": 9,
   "metadata": {
    "scrolled": true
   },
   "outputs": [],
   "source": [
    "#// BEGIN_COMMON [Author]\n",
    "\n",
    "AUTHOR_NAME = ''\n",
    "AUTHOR_ID_NR = ''\n",
    "AUTHOR_DATE = ''\n",
    "\n",
    "#// END_COMMON [Author]"
   ]
  },
  {
   "cell_type": "markdown",
   "metadata": {},
   "source": [
    "## Preliminaries\n",
    "\n",
    "Run the cell below. This cell will import additional modules providing additional Python functionality."
   ]
  },
  {
   "cell_type": "code",
   "execution_count": 10,
   "metadata": {},
   "outputs": [],
   "source": [
    "from collections import Counter\n",
    "from typing import List, Dict"
   ]
  },
  {
   "cell_type": "markdown",
   "metadata": {},
   "source": [
    "## The String Game\n",
    "\n",
    "The \"String Game\" is to practice vowel sounds and consonants in a string. \n",
    "A vowel is a speech sound made with your mouth fairly open, the nucleus of a spoken syllable. \n",
    "A consonant is a sound made with your mouth fairly closed.\n",
    "\n",
    "This game has two players (player1 and player2).\n",
    "Given a certain string, each player has to make all substrings starting either by vowel sounds (player1) or by consonants (player2).\n",
    "The game ends when both players make all possible substrings. Each substring has one point and the player with the maximum number of substrings will win the game.\n",
    "\n",
    "In order to know more about the game mechanics, have a look at the figure as an example having *Sleep* as the given string:\n",
    "\n",
    "<img src=\"assets\\stringGame.png\" alt=\"String Game\" width=\"450\"/>\n",
    "<br>\n",
    "<div style=\"text-align:center\">\n",
    "    <span style=\"font-size:0.9em; font-weight: bold;\">Fig. 1. String Game.</span>\n",
    "</div>\n",
    "\n",
    "\n",
    "Before playing the game, let's practice and find out more about vowel sounds and consonants."
   ]
  },
  {
   "cell_type": "markdown",
   "metadata": {},
   "source": [
    "## Task 1: Finding Vowels\n",
    "\n",
    "First of all, we would like to find all vowels in a single line of string input. \n",
    "To this end, we let one of our players provide a string input (preferably a word using `input()`) and store it in a variable called `word`.\n",
    "Furthermore, we define a variable called `vowels` and store all vowels (a, e, i, o, and u) in this variable.\n",
    "\n",
    "Now, the player wants us to author a piece of code that finds all the vowels in the input string and print them out in a single line. Consonants should be found and be replaced by *space*. For example, the word \"halaloya\" will be \" a a o a\".\n",
    "\n",
    "**Hints:** \n",
    "- If the input string is (partially) written with uppercase letter/s, there is a built-in python method called `lower()` that converts all uppercase letters of a string to lowercase.\n",
    "- Built-in method means that we do not need to import any libraries to use the method.\n",
    "\n",
    "**Note:** The best practice is to iterate through the input string, find vowels, and print them in the output.\n",
    "\n"
   ]
  },
  {
   "cell_type": "code",
   "execution_count": 4,
   "metadata": {},
   "outputs": [
    {
     "name": "stdout",
     "output_type": "stream",
     "text": [
      "s  dw   sd\n"
     ]
    }
   ],
   "source": [
    "# the system waits for the user's string input\n",
    "word = input() \n",
    "\n",
    "# defining vowels\n",
    "vowels = \"aeiou\"\n",
    "\n",
    "#// BEGIN_TODO [find_vowels] finding Vowels in a string\n",
    "\n",
    "#// END_TODO [find_vowels]"
   ]
  },
  {
   "cell_type": "markdown",
   "metadata": {},
   "source": [
    "## Task 2: Counting Vowels & Consonants\n",
    "\n",
    "So far, you have found and printed out all vowels. \n",
    "But now, one of the players would like to know the number of both vowels and consonants in a single line of string input.\n",
    "This player kindly asks us to count the number of vowels and consonants and store them in two variables called `counter_v` for vowels and `counter_c` for consonants. Both variables should be printed in the output.\n",
    "\n",
    "**Notes:**\n",
    "- `counter_v` should be printed in the output followed by `counter_c`. \n",
    "- The best practice is to iterate through the input string, count vowels and consonants, and print the numbers in the output."
   ]
  },
  {
   "cell_type": "code",
   "execution_count": 12,
   "metadata": {},
   "outputs": [
    {
     "name": "stdout",
     "output_type": "stream",
     "text": [
      "Vowels: 4, Consonants: 8\n"
     ]
    }
   ],
   "source": [
    "# the system waits for the user's string input\n",
    "word = input() \n",
    "\n",
    "# defining vowels\n",
    "vowels = \"aeiou\"\n",
    "\n",
    "#// BEGIN_TODO [counting] counting Vowels and Consonants in a string\n",
    "\n",
    "#// END_TODO [counting]"
   ]
  },
  {
   "cell_type": "markdown",
   "metadata": {},
   "source": [
    "## Task 3: All Possible Substrings\n",
    "\n",
    "Well Done! Now, let's make it a bit more interesting for our players.\n",
    "\n",
    "We would like to give a clearer picture to both players of how the game works. \n",
    "First, we need to find and count all possible substrings, which begin either with Vowels or Consonants in the input string (see Fig. 1). Then, we need to print them in the output.\n",
    "\n",
    "**Hints:**\n",
    "- Define a variable called `count_v` to count all possible substrings, which begin with a vowel. \n",
    "- Also, define another variable called `count_c` to store all possible substrings, which begin with a consonant.\n",
    "\n",
    "**Notes:**\n",
    "- You need to iterate through the string input, find and count all possible substrings which begin either with Vowels or Consonants, and print the number of them in the output. \n",
    "- `count_v` should be printed in the output followed by `count_c`.\n",
    "\n",
    "**Example**:\n",
    "\n",
    "Imagine we input the word `dog`. Then, the number of substrings starting with a vowel is 2 (`o` and `og`). The number of substrings starting with a consonant is 4 (`d`, `do`, `dog`,`g`). Hence, the output for task 3 should be:\n",
    "\n",
    "`number of substrings starting with Vowels: 2 - number of substrings starting with Consonants: 4`"
   ]
  },
  {
   "cell_type": "code",
   "execution_count": 13,
   "metadata": {},
   "outputs": [
    {
     "name": "stdout",
     "output_type": "stream",
     "text": [
      "number of substrings starting with Vowels: 2 - number of substrings starting with Consonants: 4\n"
     ]
    }
   ],
   "source": [
    "# the system waits for the user's string input\n",
    "word = input() \n",
    "\n",
    "# defining vowels\n",
    "vowels = \"aeiou\"\n",
    "\n",
    "#// BEGIN_TODO [count_substrings] counting all substrings in a string\n",
    "\n",
    "#// END_TODO [count_substrings]"
   ]
  },
  {
   "cell_type": "markdown",
   "metadata": {},
   "source": [
    "## Task 4: Play the Game\n",
    "\n",
    "So far, both players are now familiar with the vowel sounds and consonants in a single line of input string. \n",
    "This is the time to play the String Game.\n",
    "\n",
    "Now, you need to define two players: *Russell* and *Denzel*. \n",
    "Then, you need to give a single line of input string to both of them. \n",
    "*Russell* has to make substrings starting with vowels, and *Denzel* has to make substrings starting with consonants. \n",
    "The game ends when both players make all possible substrings. \n",
    "Each substring has one point and the player with the maximum number of substrings will win the game.\n",
    "\n",
    "**Hints:**\n",
    "- Define a function called `string_game`, which takes the input string as an argument.\n",
    "- Define two variables called `russell_score` and `denzel_score` to store the players' scores.\n",
    "\n",
    "**Notes:**\n",
    "- You need to determine the winner of the game.\n",
    "- Both players' scores (first Russell and then Denzel), sperated by a hyphen (-) should be printed.\n",
    "- The winner of the game should be printed in a new line. For example: \"Denzel is the winner!\"\n",
    "- If there is no winner, \"No winner has been determined!\" should be printed.\n",
    "- `string_game` prints something and does not return anything.\n",
    "\n",
    "**Example**:\n",
    "\n",
    "Imagine the word is `foot`. Then, the output of the function `string_game` should be:\n",
    "\n",
    "`Russell score: 5 - Denzel Score: 5\n",
    "No winner has been determined!`"
   ]
  },
  {
   "cell_type": "code",
   "execution_count": 14,
   "metadata": {},
   "outputs": [
    {
     "name": "stdout",
     "output_type": "stream",
     "text": [
      "Russell score: 5 - Denzel Score: 5\n",
      "No winner has been determined\n"
     ]
    }
   ],
   "source": [
    "#// BEGIN_TODO [string_game] determining the winner\n",
    "def string_game(word):\n",
    "    raise NotImplementedError\n",
    "\n",
    "#// END_TODO [string_game]\n",
    "\n",
    "word = input()\n",
    "string_game(word)"
   ]
  },
  {
   "cell_type": "markdown",
   "metadata": {},
   "source": [
    "## Task 5: Advance String Game\n",
    "\n",
    "You might have noticed that the game is not fair because *Russell* and *Denzel* only play one round. \n",
    "\n",
    "To improve the game, we want to read a sequence of words from the file `assets/words.txt` (see lecture `06_strings`). Each time we read a word we will have a new round.\n",
    "The game only stops when you read the word `quit` in the file. \n",
    "Both players have to make all substrings starting either by vowel sounds or by consonants in each round. \n",
    "Similar to *task 4*, *Russell* has to make substrings starting with vowels, and *Denzel* has to make substrings starting with consonants. \n",
    "The round ends when both players make all possible substrings for each round. \n",
    "Each substring has one point. In contrast to *Task 4*, the winner is the one who wins more rounds, but not the one who made more substrings at the end of the game.\n",
    "\n",
    "When you insert the word `quit`, two sentences must be printed in two different lines. \n",
    "In the first line, the name of each player is printed followed by the number of rounds that they won, and the total number of substrings for each of them. For example: \"The final score is: Russell 3 ( 30 substrings ) - Denzel 6 ( 47 substrings )\".\n",
    "In the second line, the winner's name is printed. For example: \"Denzel is the winner!\"\n",
    "\n",
    "**Hints:**\n",
    "- Use a `for` loop to iterate over the words in the file.\n",
    "- Use your solution to *Task 3* and create a function `possible_substrings` that contains the code.\n",
    "- Function `possible_substring` takes the input string as an argument in each round.\n",
    "- Function `possible_substring` returns the number of substrings, which are created with vowels and consonants in each round.\n",
    "- Define a function called `advance_string_game`, which takes the function `possible_substrings` as an argument.\n",
    "- Use function `possible_substring` within function `advance_string_game` to count the number of substrings for each string input.\n",
    "- Define two variables called `total_count_v` and `total_count_c` to store the number of substrings, which begins either with vowels or with consonants.\n",
    "- Define two variables called `russell_win_round` and `denzel_win_round` to store the number of times that each player wins a round of string input.\n",
    "\n",
    "**Notes:**\n",
    "- You need to determine the winner of the game.\n",
    "- The winner of the game should be printed in a new line. For example: \"Denzel is the winner!\"\n",
    "- If there is no winner, \"No winner has been determined!\" should be printed.\n",
    "- The game must stop if you insert any variation (with or without capital letters) of the word `quit`. \n",
    "- You should invoke the function `possible_substring` inside the function `advance_string_game`.\n",
    "- `advance_string_game` prints two sentences and does not return anything.\n",
    "- There is a possibility that the winner is not the player who made more substrings by the end of the game. \n",
    "- If you want, you can alter the content of the `assets/words.txt` file to test your solution."
   ]
  },
  {
   "cell_type": "code",
   "execution_count": 15,
   "metadata": {},
   "outputs": [
    {
     "name": "stdout",
     "output_type": "stream",
     "text": [
      "The final score is: Russell 2 ( 30 substrings ) - Denzel 6 ( 47 substrings )\n",
      "Denzel is the winner\n"
     ]
    }
   ],
   "source": [
    "#// BEGIN_TODO [advance_string_game] determining the winner in advance string game\n",
    "\n",
    "# inputs: a text doc that contains a list of words, one on each line\n",
    "# outputs: a printed statement of each player's score (based how many words they have respecively more substrings in), \n",
    "# how many substrings total they have, and who won (based on score) same player has same letter type as last task\n",
    "# method: use essentially the method from the previous assignment for \"possible_substring\", except you loop it in advance_string_game for each word in the list, and stop on \"quit\" to give a winner\n",
    "\n",
    "\n",
    "def advance_string_game(possible_substring:callable):\n",
    "    raise NotImplementedError\n",
    "\n",
    "\n",
    "def possible_substring(word:str) -> List[Dict[str,any]]:\n",
    "    raise NotImplementedError\n",
    "\n",
    "#// END_TODO [advance_string_game]\n",
    "\n",
    "advance_string_game(possible_substring)"
   ]
  },
  {
   "cell_type": "markdown",
   "metadata": {},
   "source": [
    "---\n",
    "\n",
    "# (End of Notebook)\n",
    "\n",
    "&copy; 2020-2022 - **TU/e** - **VU Amsterdam**"
   ]
  }
 ],
 "metadata": {
  "anaconda-cloud": {},
  "kernelspec": {
   "display_name": "base",
   "language": "python",
   "name": "python3"
  },
  "language_info": {
   "codemirror_mode": {
    "name": "ipython",
    "version": 3
   },
   "file_extension": ".py",
   "mimetype": "text/x-python",
   "name": "python",
   "nbconvert_exporter": "python",
   "pygments_lexer": "ipython3",
   "version": "3.9.12"
  },
  "vscode": {
   "interpreter": {
    "hash": "4c7d6fe635d46e8fcb5c48113f8c7f0313515130f4f48f2719b7e74c52a1887f"
   }
  }
 },
 "nbformat": 4,
 "nbformat_minor": 4
}
