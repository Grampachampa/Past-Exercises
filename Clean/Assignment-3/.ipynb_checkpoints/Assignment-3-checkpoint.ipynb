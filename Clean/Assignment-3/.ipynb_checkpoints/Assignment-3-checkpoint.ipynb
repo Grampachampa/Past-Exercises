{
 "cells": [
  {
   "cell_type": "markdown",
   "metadata": {},
   "source": [
    "# XB_0082 - Assignment 3 (2022-2023)\n",
    "\n",
    "### Logical Thinking\n",
    "\n",
    "This Jupyter notebook aims to get you started with logical thinking. We will learn how to analyse a computational problem. That is, we will learn how to identify the main elements (e.g. inputs, output, instructions) of the problem in order to create a program that offers a concrete solution."
   ]
  },
  {
   "cell_type": "markdown",
   "metadata": {},
   "source": [
    "## Table of Contents\n",
    "<div class=\"toc\" style=\"margin-top: 1em;\">\n",
    "    <ul class=\"toc-item\">\n",
    "        <li>\n",
    "            <span><a href=\"#Introduction-to-this-template-notebook\" data-toc-modified-id=\"Introduction-to-this-template-notebook\">Introduction to this template notebook</a></span>\n",
    "        </li>\n",
    "        <li>\n",
    "            <span><a href=\"#The-String-Game\" data-toc-modified-id=\"The-String-Game\">The String Game</a></span>\n",
    "        </li>\n",
    "        <li>\n",
    "            <span><a href=\"#Task-1:-Finding-Vowels\" data-toc-modified-id=\"Task-1:-Finding-Vowels\">Task 1: Finding Vowels</a></span>\n",
    "        </li>\n",
    "        <li>\n",
    "            <span><a href=\"#Task-2:-Counting-Vowels-&-Consonants\" data-toc-modified-id=\"Task-2:-Counting-Vowels-&-Consonants\">Task 2: Counting Vowels & Consonants</a></span>\n",
    "        </li>\n",
    "        <li>\n",
    "            <span><a href=\"#Task-3:-All-Possible-Substrings\" data-toc-modified-id=\"Task-3:-All-Possible-Substrings\">Task 3: All Possible Substrings</a></span>\n",
    "        </li>\n",
    "        <li>\n",
    "            <span><a href=\"#Task-4:-Play-the-Game\" data-toc-modified-id=\"Task-4:-Play-the-Game\">Task 4: Play the Game</a></span>\n",
    "        </li>\n",
    "        <li>\n",
    "            <span><a href=\"#Task-5:-Advance-String-Game\" data-toc-modified-id=\"Task-5:-Advance-String-Game\">Task 5: Advance String Game</a></span>\n",
    "        </li>\n",
    "    </ul>\n",
    "</div>"
   ]
  },
  {
   "cell_type": "markdown",
   "metadata": {},
   "source": [
    "`#// BEGIN_COMMON [First] First Things First Section Exercises`\n",
    "\n",
    "`#// END_COMMON [First]`"
   ]
  },
  {
   "cell_type": "code",
   "execution_count": 6,
   "metadata": {
    "scrolled": true
   },
   "outputs": [],
   "source": [
    "#// BEGIN_COMMON [Author]\n",
    "AUTHOR_NAME = 'Tim Jonatan But'\n",
    "AUTHOR_ID_NR = '2738575'\n",
    "AUTHOR_DATE = '2022-10-10'\n",
    "#// END_COMMON [Author]"
   ]
  },
  {
   "cell_type": "markdown",
   "metadata": {},
   "source": [
    "## Preliminaries\n",
    "\n",
    "Run the cell below. This cell will import additional modules providing additional Python functionality."
   ]
  },
  {
   "cell_type": "code",
   "execution_count": 7,
   "metadata": {},
   "outputs": [],
   "source": [
    "from collections import Counter\n",
    "from typing import List, Dict"
   ]
  },
  {
   "cell_type": "markdown",
   "metadata": {},
   "source": [
    "## The String Game\n",
    "\n",
    "The \"String Game\" is to practice vowel sounds and consonants in a string. \n",
    "A vowel is a speech sound made with your mouth fairly open, the nucleus of a spoken syllable. \n",
    "A consonant is a sound made with your mouth fairly closed.\n",
    "\n",
    "This game has two players (player1 and player2).\n",
    "Given a certain string, each player has to make all substrings starting either by vowel sounds (player1) or by consonants (player2).\n",
    "The game ends when both players make all possible substrings. Each substring has one point and the player with the maximum number of substrings will win the game.\n",
    "\n",
    "In order to know more about the game mechanics, have a look at the figure as an example having *Sleep* as the given string:\n",
    "\n",
    "<img src=\"assets\\stringGame.png\" alt=\"String Game\" width=\"450\"/>\n",
    "<br>\n",
    "<div style=\"text-align:center\">\n",
    "    <span style=\"font-size:0.9em; font-weight: bold;\">Fig. 1. String Game.</span>\n",
    "</div>\n",
    "\n",
    "\n",
    "Before playing the game, let's practice and find out more about vowel sounds and consonants."
   ]
  },
  {
   "cell_type": "markdown",
   "metadata": {},
   "source": [
    "## Task 1: Finding Vowels\n",
    "\n",
    "First of all, we would like to find all vowels in a single line of string input. \n",
    "To this end, we let one of our players provide a string input (preferably a word using `input()`) and store it in a variable called `word`.\n",
    "Furthermore, we define a variable called `vowels` and store all vowels (a, e, i, o, and u) in this variable.\n",
    "\n",
    "Now, the player wants us to author a piece of code that finds all the vowels in the input string and print them out in a single line. Consonants should be found and be replaced by *space*. For example, the word \"halaloya\" will be \" a a o a\".\n",
    "\n",
    "**Hints:** \n",
    "- If the input string is (partially) written with uppercase letter/s, there is a built-in python method called `lower()` that converts all uppercase letters of a string to lowercase.\n",
    "- Built-in method means that we do not need to import any libraries to use the method.\n",
    "\n",
    "**Note:** The best practice is to iterate through the input string, find vowels, and print them in the output.\n",
    "\n"
   ]
  },
  {
   "cell_type": "code",
   "execution_count": 8,
   "metadata": {},
   "outputs": [
    {
     "name": "stdout",
     "output_type": "stream",
     "text": [
      " a a o a\n"
     ]
    }
   ],
   "source": [
    "# the system waits for the user's string input\n",
    "word = input() \n",
    "\n",
    "# defining vowels\n",
    "vowels = \"aeiou\"\n",
    "\n",
    "#// BEGIN_TODO [find_vowels] finding Vowels in a string\n",
    "\n",
    "# Inputs: input word, string containing vowels\n",
    "# outputs: a print statement of the input word, with all characters except those contained in the \"vowels string\" replaced with spaces\n",
    "# method: create a re pattern from \"vowels\", then using re.sub to replace all characters that are not vowels in \"word\" with spaces\n",
    "import re\n",
    "vowel_re_pattern:re.Pattern = re.compile(f'[^({vowels})]')\n",
    "new_string:str = re.sub(vowel_re_pattern, ' ', word)\n",
    "print (new_string)\n",
    "\n",
    "\n",
    "#// END_TODO [find_vowels]"
   ]
  },
  {
   "cell_type": "markdown",
   "metadata": {},
   "source": [
    "## Task 2: Counting Vowels & Consonants\n",
    "\n",
    "So far, you have found and printed out all vowels. \n",
    "But now, one of the players would like to know the number of both vowels and consonants in a single line of string input.\n",
    "This player kindly asks us to count the number of vowels and consonants and store them in two variables called `counter_v` for vowels and `counter_c` for consonants. Both variables should be printed in the output.\n",
    "\n",
    "**Notes:**\n",
    "- `counter_v` should be printed in the output followed by `counter_c`. \n",
    "- The best practice is to iterate through the input string, count vowels and consonants, and print the numbers in the output."
   ]
  },
  {
   "cell_type": "code",
   "execution_count": 9,
   "metadata": {},
   "outputs": [
    {
     "name": "stdout",
     "output_type": "stream",
     "text": [
      "Vowels: 2, Consonants: 2\n"
     ]
    }
   ],
   "source": [
    "# the system waits for the user's string input\n",
    "word = input() \n",
    "\n",
    "# defining vowels\n",
    "vowels = \"aeiou\"\n",
    "\n",
    "#// BEGIN_TODO [counting] counting Vowels and Consonants in a string\n",
    "# inputs: user input \"word\", string containing vowels - \"vowels\", and string containing consonants \"consonants\"\n",
    "# outputs: a print statement stating how many vowels and consonants there are in \"word\"\n",
    "# method: create a function that takes a word and letter type that returns how many letters in that word use said letter type. Call this function twice: once with consonants and once with vowels\n",
    "\n",
    "\n",
    "\n",
    "# defining consonants\n",
    "consonants:str = (\"bcdfghjklmnpqrstvwxyz\")\n",
    "\n",
    "def type_counter(word:str, letter_type:str) -> int:\n",
    "    '''Given a word and letter type, counts every instance of a letter from letter_type in the word.\n",
    "    :param word: str, input word\n",
    "    :param letter_type: str, a string of containinga all of the letters that you wish to count\n",
    "    :returns: int, number of letters in word that are also in letter_type\n",
    "    '''\n",
    "    # create a counter of each letter in a lowercase verion of \"word\"\n",
    "    word_count:Counter[str] = Counter(word.lower())\n",
    "    # gives integer value of how any words in \"word\" are of the specified letter type\n",
    "    total:int = sum([word_count[i] for i in letter_type])\n",
    "    return(total)\n",
    "    \n",
    "# call twice for letters and vowels\n",
    "type_v = type_counter(word, vowels)\n",
    "type_c = type_counter(word, consonants)\n",
    "\n",
    "# print statement\n",
    "print(f\"Vowels: {type_v}, Consonants: {type_c}\")\n",
    "\n",
    "#// END_TODO [counting]"
   ]
  },
  {
   "cell_type": "markdown",
   "metadata": {},
   "source": [
    "## Task 3: All Possible Substrings\n",
    "\n",
    "Well Done! Now, let's make it a bit more interesting for our players.\n",
    "\n",
    "We would like to give a clearer picture to both players of how the game works. \n",
    "First, we need to find and count all possible substrings, which begin either with Vowels or Consonants in the input string (see Fig. 1). Then, we need to print them in the output.\n",
    "\n",
    "**Hints:**\n",
    "- Define a variable called `count_v` to count all possible substrings, which begin with a vowel. \n",
    "- Also, define another variable called `count_c` to store all possible substrings, which begin with a consonant.\n",
    "\n",
    "**Notes:**\n",
    "- You need to iterate through the string input, find and count all possible substrings which begin either with Vowels or Consonants, and print the number of them in the output. \n",
    "- `count_v` should be printed in the output followed by `count_c`.\n",
    "\n",
    "**Example**:\n",
    "\n",
    "Imagine we input the word `dog`. Then, the number of substrings starting with a vowel is 2 (`o` and `og`). The number of substrings starting with a consonant is 4 (`d`, `do`, `dog`,`g`). Hence, the output for task 3 should be:\n",
    "\n",
    "`number of substrings starting with Vowels: 2 - number of substrings starting with Consonants: 4`"
   ]
  },
  {
   "cell_type": "code",
   "execution_count": 10,
   "metadata": {},
   "outputs": [
    {
     "name": "stdout",
     "output_type": "stream",
     "text": [
      "number of substrings starting with Vowels: 2 - number of substrings starting with Consonants: 4\n"
     ]
    }
   ],
   "source": [
    "# the system waits for the user's string input\n",
    "\n",
    "word = input() \n",
    "\n",
    "# defining vowels\n",
    "vowels = \"aeiou\"\n",
    "\n",
    "#// BEGIN_TODO [count_substrings] counting all substrings in a string\n",
    "# inputs: same as previous exercise\n",
    "# outputs: A print statement stating how many substrings there are in the word that start with vowels and how many start with consonants\n",
    "# method: create a function that takes the word, vowels, and consonants, and then make it count how many substrings there are that start with vowels and consonants. then, print relevant info\n",
    "\n",
    "# defining consonants\n",
    "consonants = \"bcdfghjklmnpqrstvwxyz\"\n",
    "def substring_counter(word:str, vowels:str, consonants:str) -> None:\n",
    "    '''Given a word, a string containing all vowels and one containing all consonants, prints the number of substrings in the word starting with vowels and consonants.\n",
    "    :param word: str, input word\n",
    "    :param vowels: str, a string containing all voewls\n",
    "    :paramm consonants: str, a string containing all consonants\n",
    "    :returns: none\n",
    "    '''\n",
    "\n",
    "    # for each letter of the relevant type, adds a number to the relevant counter based on it's position in the word (there are as many substrings per letter as there are numbers ahead of it + 1)\n",
    "    # since index starts at 0, we don't need to add 1 \n",
    "    count_v:int = sum([(len(word)-i) for i in range (len(word)) if word[i].lower() in vowels])\n",
    "    count_c:int = sum([(len(word)-i) for i in range (len(word)) if word[i].lower() in consonants])\n",
    "    \n",
    "    # print statement\n",
    "    print(f\"number of substrings starting with Vowels: {count_v} - number of substrings starting with Consonants: {count_c}\")\n",
    "substring_counter(word, vowels, consonants)\n",
    "\n",
    "#// END_TODO [count_substrings]"
   ]
  },
  {
   "cell_type": "markdown",
   "metadata": {},
   "source": [
    "## Task 4: Play the Game\n",
    "\n",
    "So far, both players are now familiar with the vowel sounds and consonants in a single line of input string. \n",
    "This is the time to play the String Game.\n",
    "\n",
    "Now, you need to define two players: *Russell* and *Denzel*. \n",
    "Then, you need to give a single line of input string to both of them. \n",
    "*Russell* has to make substrings starting with vowels, and *Denzel* has to make substrings starting with consonants. \n",
    "The game ends when both players make all possible substrings. \n",
    "Each substring has one point and the player with the maximum number of substrings will win the game.\n",
    "\n",
    "**Hints:**\n",
    "- Define a function called `string_game`, which takes the input string as an argument.\n",
    "- Define two variables called `russell_score` and `denzel_score` to store the players' scores.\n",
    "\n",
    "**Notes:**\n",
    "- You need to determine the winner of the game.\n",
    "- Both players' scores (first Russell and then Denzel), sperated by a hyphen (-) should be printed.\n",
    "- The winner of the game should be printed in a new line. For example: \"Denzel is the winner!\"\n",
    "- If there is no winner, \"No winner has been determined!\" should be printed.\n",
    "- `string_game` prints something and does not return anything.\n",
    "\n",
    "**Example**:\n",
    "\n",
    "Imagine the word is `foot`. Then, the output of the function `string_game` should be:\n",
    "\n",
    "`Russell score: 5 - Denzel Score: 5\n",
    "No winner has been determined!`"
   ]
  },
  {
   "cell_type": "code",
   "execution_count": 11,
   "metadata": {},
   "outputs": [
    {
     "name": "stdout",
     "output_type": "stream",
     "text": [
      "Russell score: 5 - Denzel Score: 5\n",
      "No winner has been determined\n"
     ]
    }
   ],
   "source": [
    "#// BEGIN_TODO [string_game] determining the winner\n",
    "# inputs: user input word\n",
    "# outputs: a printed statements of each player's score (russel score = # of vowel substrings, Denzel score = # of consonant substrings)\n",
    "# method: use the method from the previous assignment, except also assign a winner based on score\n",
    "\n",
    "def string_game(word:str) -> None:\n",
    "    '''Given a word, prints number of substrings starting with vowels (Counted towards Russel's score) and consonants (Counted towards Denzel's score) - then prints winner (Russel, Denzel, or neither)\n",
    "    :param word: str, input word\n",
    "    :returns: none\n",
    "    '''\n",
    "    #defining vowels\n",
    "    vowels:str = \"aeiou\"\n",
    "    # defining consonants\n",
    "    consonants:str = \"bcdfghjklmnpqrstvwxyz\"\n",
    "    \n",
    "    # Counts number of substrings for each letter type, like in last task  \n",
    "    russel_score:int = sum([(len(word)-i) for i in range (len(word)) if word[i].lower() in vowels])\n",
    "    denzel_score:int = sum([(len(word)-i) for i in range (len(word)) if word[i].lower() in consonants])\n",
    "\n",
    "    # a list of 2 dictionaries containing russel's score and denzel's score, alongside their names \n",
    "    info_list:List[Dict[str,any]] = [{\"name\":\"Russel\", \"score\": russel_score}, {\"name\": \"Denzel\", \"score\": denzel_score}]\n",
    "\n",
    "    # sorts the list by \"score\" value inside the dictionaries\n",
    "    info_list.sort(key = lambda a: a[\"score\"])\n",
    "\n",
    "    # defines the \"winner\" as the name in the last dictionary\n",
    "    winner:str = info_list[1][\"name\"]\n",
    "\n",
    "    # dictionary containing statements for both if there is a winner or tie\n",
    "    output_dict:Dict[bool, str] = {False: \"No winner has been determined\", True: f\"{winner} is the winner\"}\n",
    "\n",
    "    # key, defined by whether or not the score is even\n",
    "    output_key:bool = bool(info_list[1][\"score\"]-info_list[0][\"score\"])\n",
    "\n",
    "    # the output given is decided by the value of the key\n",
    "    win_statement:str = output_dict[output_key]\n",
    "\n",
    "    #print statements for score and winner/tie statement\n",
    "    print(f\"Russell score: {russel_score} - Denzel Score: {denzel_score}\")\n",
    "    print(win_statement)\n",
    "\n",
    "#// END_TODO [string_game]\n",
    "\n",
    "word = input()\n",
    "string_game(word)"
   ]
  },
  {
   "cell_type": "markdown",
   "metadata": {},
   "source": [
    "## Task 5: Advance String Game\n",
    "\n",
    "You might have noticed that the game is not fair because *Russell* and *Denzel* only play one round. \n",
    "\n",
    "To improve the game, we want to read a sequence of words from the file `assets/words.txt` (see lecture `06_strings`). Each time we read a word we will have a new round.\n",
    "The game only stops when you read the word `quit` in the file. \n",
    "Both players have to make all substrings starting either by vowel sounds or by consonants in each round. \n",
    "Similar to *task 4*, *Russell* has to make substrings starting with vowels, and *Denzel* has to make substrings starting with consonants. \n",
    "The round ends when both players make all possible substrings for each round. \n",
    "Each substring has one point. In contrast to *Task 4*, the winner is the one who wins more rounds, but not the one who made more substrings at the end of the game.\n",
    "\n",
    "When you insert the word `quit`, two sentences must be printed in two different lines. \n",
    "In the first line, the name of each player is printed followed by the number of rounds that they won, and the total number of substrings for each of them. For example: \"The final score is: Russell 3 ( 30 substrings ) - Denzel 6 ( 47 substrings )\".\n",
    "In the second line, the winner's name is printed. For example: \"Denzel is the winner!\"\n",
    "\n",
    "**Hints:**\n",
    "- Use a `for` loop to iterate over the words in the file.\n",
    "- Use your solution to *Task 3* and create a function `possible_substrings` that contains the code.\n",
    "- Function `possible_substring` takes the input string as an argument in each round.\n",
    "- Function `possible_substring` returns the number of substrings, which are created with vowels and consonants in each round.\n",
    "- Define a function called `advance_string_game`, which takes the function `possible_substrings` as an argument.\n",
    "- Use function `possible_substring` within function `advance_string_game` to count the number of substrings for each string input.\n",
    "- Define two variables called `total_count_v` and `total_count_c` to store the number of substrings, which begins either with vowels or with consonants.\n",
    "- Define two variables called `russell_win_round` and `denzel_win_round` to store the number of times that each player wins a round of string input.\n",
    "\n",
    "**Notes:**\n",
    "- You need to determine the winner of the game.\n",
    "- The winner of the game should be printed in a new line. For example: \"Denzel is the winner!\"\n",
    "- If there is no winner, \"No winner has been determined!\" should be printed.\n",
    "- The game must stop if you insert any variation (with or without capital letters) of the word `quit`. \n",
    "- You should invoke the function `possible_substring` inside the function `advance_string_game`.\n",
    "- `advance_string_game` prints two sentences and does not return anything.\n",
    "- There is a possibility that the winner is not the player who made more substrings by the end of the game. \n",
    "- If you want, you can alter the content of the `assets/words.txt` file to test your solution."
   ]
  },
  {
   "cell_type": "code",
   "execution_count": 12,
   "metadata": {},
   "outputs": [
    {
     "name": "stdout",
     "output_type": "stream",
     "text": [
      "The final score is: Russell 2 ( 30 substrings ) - Denzel 6 ( 47 substrings )\n",
      "Denzel is the winner\n"
     ]
    }
   ],
   "source": [
    "#// BEGIN_TODO [advance_string_game] determining the winner in advance string game\n",
    "\n",
    "# inputs: a text doc that contains a list of words, one on each line\n",
    "# outputs: a printed statement of each player's score (based how many words they have respecively more substrings in), \n",
    "# how many substrings total they have, and who won (based on score) same player has same letter type as last task\n",
    "# method: use essentially the method from the previous assignment for \"possible_substring\", except you loop it in advance_string_game for each word in the list, and stop on \"quit\" to give a winner\n",
    "\n",
    "\n",
    "def advance_string_game(possible_substring:callable):\n",
    "    '''Given possbile_substring, runs through \"assets/words.txt\" word by word, counting substrings starting with vowels (Counted towards Russel's score) and consonants (Counted towards Denzel's score) \n",
    "    \\n and determining a winner for each word. At the end, prints total number of substrings found by each player, how many words they won, and who won the game, based on who won morst words.\n",
    "    :param possible_substring: Given a word, returns the number of substrings starting with vowels (Counted towards Russel's score) and consonants (Counted towards Denzel's score)\n",
    "    :returns: info_list: a list containing two dictionaries: russel_score and denzel_score, both of which contain values under the keys \"name\" and \"score\"\n",
    "    '''\n",
    "    \n",
    "    # storing each wprd from words.txt until a variation of the word \"quit\" appears in the list as separate strings in list \"words\"\n",
    "    txt:list[str] = open(\"assets/words.txt\").read().split()\n",
    "    words:List[str] = [i.strip().lower() for i in txt]\n",
    "    words = words[:words.index(\"quit\")]\n",
    "    \n",
    "    # defining variables for total vowel substrings, total consonant substrings, and total wins for each player\n",
    "    total_count_v:int = 0; total_count_c:int = 0\n",
    "    wins:dict[str:int] = {\"Denzel\":0, \"Russel\": 0}\n",
    "\n",
    "    # for every string in list \"words\", uses function \"possible_substring\" to calculate number of vowel and consonant substrings (returned in that order as a list) and adds these values to total_count variables   \n",
    "    for word in words:\n",
    "        substring_list:dict[str,any] = possible_substring(word)\n",
    "        total_count_v += substring_list[0][\"score\"]\n",
    "        total_count_c += substring_list[1][\"score\"]\n",
    "\n",
    "        # sorts the substring_list so that the dict with the higher score value for the round appears last in the list\n",
    "        substring_list.sort(key = lambda a: a[\"score\"])\n",
    "\n",
    "        # adds a win to the winner of the round based on the last name in the sorted substring_list if there is a winner\n",
    "        if substring_list[0][\"score\"] == substring_list[1][\"score\"]:\n",
    "            continue\n",
    "        wins[substring_list[1][\"name\"]] += 1\n",
    "\n",
    "    # final variable storing the number of round wins for each player\n",
    "    russell_win_round:int = wins[\"Russel\"]; denzel_win_round:int = wins[\"Denzel\"]\n",
    "\n",
    "    # print statement for final scoreline\n",
    "    print (f\"The final score is: Russell {russell_win_round} ( {total_count_v} substrings ) - Denzel {denzel_win_round} ( {total_count_c} substrings )\")\n",
    "    \n",
    "    # turns \"wins\" dict into a list of each dict key and value stored in a tuple instead, and sorts it by the number of wins, so that the one with the most wins is last. \n",
    "    # Then, defines string \"winner\" using that to get the name\n",
    "    sorted_wins:List[tuple[str, int]] = sorted(wins.items(), key = lambda x:x[1])\n",
    "    winner:str = sorted_wins[1][0]\n",
    "\n",
    "    # winner print statements. If the number of wins is the same, the output key is equal to 0, or False\n",
    "    output_dict:Dict = {False: \"No winner has been determined\", True: f\"{winner} is the winner\"}; output_key:bool = bool(sorted_wins[1][1]-sorted_wins[0][1])\n",
    "    print (output_dict[output_key])\n",
    "\n",
    "\n",
    "\n",
    "def possible_substring(word:str) -> List[Dict[str,any]]:\n",
    "    '''Given a word, returns the number of substrings starting with vowels (Counted towards Russel's score) and consonants (Counted towards Denzel's score)\n",
    "    :param word: str, input word\n",
    "    :returns: info_list: a list containing two dictionaries: russel_score and denzel_score, both of which contain values under the keys \"name\" and \"score\"\n",
    "    '''\n",
    "    # defining vowels and consonants\n",
    "    vowels:str = \"aeiou\"; consonants:str = \"bcdfghjklmnpqrstvwxyz\"\n",
    "\n",
    "    #dict for each one's score for the round\n",
    "    russel_score:dict[str,any] = {\"name\":\"Russel\", \"score\": sum([(len(word)-i) for i in range (len(word)) if word[i] in vowels])}\n",
    "    denzel_score:dict[str,any] = {\"name\": \"Denzel\", \"score\": sum([(len(word)-i) for i in range (len(word)) if word[i] in consonants])} \n",
    "    #list containing the two dicts\n",
    "    info_list:List[Dict[str,any]] = [russel_score, denzel_score]\n",
    "    return info_list\n",
    "\n",
    "#// END_TODO [advance_string_game]\n",
    "\n",
    "advance_string_game(possible_substring)"
   ]
  },
  {
   "cell_type": "markdown",
   "metadata": {},
   "source": [
    "---\n",
    "\n",
    "# (End of Notebook)\n",
    "\n",
    "&copy; 2020-2022 - **TU/e** - **VU Amsterdam**"
   ]
  }
 ],
 "metadata": {
  "anaconda-cloud": {},
  "kernelspec": {
   "display_name": "Python 3 (ipykernel)",
   "language": "python",
   "name": "python3"
  },
  "language_info": {
   "codemirror_mode": {
    "name": "ipython",
    "version": 3
   },
   "file_extension": ".py",
   "mimetype": "text/x-python",
   "name": "python",
   "nbconvert_exporter": "python",
   "pygments_lexer": "ipython3",
   "version": "3.9.12"
  },
  "vscode": {
   "interpreter": {
    "hash": "81b1619be6385f7597674ae6028650b220db5b591d1d6b1031e26e2dfc159aa6"
   }
  }
 },
 "nbformat": 4,
 "nbformat_minor": 4
}
