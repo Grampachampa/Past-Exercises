{
 "cells": [
  {
   "cell_type": "markdown",
   "metadata": {},
   "source": [
    "# XB_0082 - Assignment 2 (2022-2023)\n",
    "\n",
    "This Jupyter notebook aims to apply programming concepts seen during the first week of the course."
   ]
  },
  {
   "cell_type": "markdown",
   "metadata": {},
   "source": [
    "## Table of Contents\n",
    "<div class=\"toc\" style=\"margin-top: 1em;\">\n",
    "    <ul class=\"toc-item\">\n",
    "        <li>\n",
    "            <span><a href=\"#Persepolis\" data-toc-modified-id=\"Persepolis\">Persepolis</a></span>\n",
    "        </li>\n",
    "        <li>\n",
    "            <span><a href=\"#Task-1:-The-Palaces-of-Persepolis\" data-toc-modified-id=\"Task-1:-The-Palaces-of-Persepolis\">Task 1: The Palaces of Persepolis</a></span>\n",
    "        </li>\n",
    "        <li>\n",
    "            <span><a href=\"#Task-2:-Apadana-Palace\" data-toc-modified-id=\"Task-2:-Apadana-Palace\">Task 2: Apadana Palace</a></span>\n",
    "        </li><li>\n",
    "            <span><a href=\"#Task-3:-Throne-Palace\" data-toc-modified-id=\"Task-3:-Throne-Palace\">Task 3: Throne Palace</a></span>\n",
    "        </li>\n",
    "        <li>\n",
    "            <span><a href=\"#Task-4:-Columns-of-Persepolis\" data-toc-modified-id=\"Task-4:-Columns of Persepolis\">Task 4: Columns of Persepolis</a></span>\n",
    "        </li>\n",
    "        <li>\n",
    "            <span><a href=\"#Task-5:-Crane\" data-toc-modified-id=\"Task-5:-Crane\">Task 5: Crane</a></span>\n",
    "        </li>\n",
    "    </ul>\n",
    "</div>"
   ]
  },
  {
   "cell_type": "markdown",
   "metadata": {},
   "source": [
    "`#// BEGIN_COMMON [First] First Things First Section Exercises`\n",
    "\n",
    "`#// END_COMMON [First]`"
   ]
  },
  {
   "cell_type": "code",
   "execution_count": 2,
   "metadata": {
    "scrolled": true
   },
   "outputs": [],
   "source": [
    "#// BEGIN_COMMON [Author]\n",
    "AUTHOR_NAME = 'Tim Jonatan But'\n",
    "AUTHOR_ID_NR = '2738575'\n",
    "AUTHOR_DATE = '2022-10-01'\n",
    "#// END_COMMON [Author]"
   ]
  },
  {
   "cell_type": "markdown",
   "metadata": {},
   "source": [
    "## Preliminaries\n",
    "\n",
    "Run the cell below. This cell will import additional modules providing additional Python functionality."
   ]
  },
  {
   "cell_type": "code",
   "execution_count": 1,
   "metadata": {},
   "outputs": [],
   "source": [
    "import time"
   ]
  },
  {
   "cell_type": "markdown",
   "metadata": {},
   "source": [
    "## Persepolis\n",
    "\n",
    "Persepolis or Parseh (\"تخت جمشید\" in Persian) is the name of a grand ceremonial complex (rather than a \"city\" in the normal sense) of ancient Iran. It is situated in the north of Marvdasht city and at a distance of 57 km from Shiraz in Fars province. This building is known as the ceremonial capital of the [Achaemenid Empire](https://www.worldhistory.org/Achaemenid_Empire/) (c. 550–330 BC), and it is a unique masterpiece that exemplifies the Achaemenid style of architecture. \n",
    "\n",
    "> Until recent challenges, most archaeologists held that it was especially used for celebrating Nowruz, the Persian New Year, held at the spring equinox, and still an important annual festivity in modern Iran.\n",
    "\n",
    "The plan of this complex was laid during the reign of Darius the Great - 515 BC - and its construction and completion were continued by Xerxes (son of Darius) and Ardashir I (his grandson). The palaces of Persepolis have been very diverse. Persepolis has about fifteen large palaces and halls with royal architecture, all of which were magnificent and had columned halls.\n",
    "\n",
    "Persepolis was taken from Darius III by the army of [Alexander the Great](https://www.britannica.com/biography/Alexander-the-Great) in 330 BC, and the wooden parts of the complex were completely destroyed by fire soon after.\n",
    "\n",
    "<img src=\"assets/persepolis.jpg\" alt=\"Persepolis\" width=\"450\"/>\n",
    "<br>\n",
    "<div style=\"text-align:center\">\n",
    "    <span style=\"font-size:0.9em; font-weight: bold;\">Fig. 1. Persepolis, the gate of all nations. Find the source <a href=\"https://en.wikipedia.org/wiki/Persepolis#/media/File:Gate_of_All_Nations,_Persepolis.jpg\">here</a>.</span>\n",
    "</div>\n",
    "\n"
   ]
  },
  {
   "cell_type": "markdown",
   "metadata": {},
   "source": [
    "## Task 1: The Palaces of Persepolis\n",
    "\n",
    "Darius the Great ordered to build a series of huge and magnificent palaces of Persepolis at the foot of the mountain to receive guests and representatives of the countries of the Iranian Empire during the New Year celebrations (Nowruz).\n",
    "\n",
    "Examining the information left in these palaces, it can be seen that about seven palaces and gates were built during the reign of: \n",
    "1. Darius the Great - Achaemenid king between [522,486) BC\n",
    "2. Xerxes - Achaemenid king between [486,465) BC\n",
    "3. Ardashir I - Achaemenid king between [465,423) BC\n",
    "\n",
    "These palaces are:\n",
    "1. Apadana Palace - Construction started in 515 BC\n",
    "2. Throne Palace (Hall of Hundred Columns) - Construction started in 470 BC\n",
    "3. Triple Gate Palace (Shora Hall) - Construction started in 450 BC\n",
    "4. Tachar Palace - Construction started in 510 BC\n",
    "5. Hadish Palace - Construction started in 480 BC\n",
    "6. Queen Palace - Construction started in 478 BC\n",
    "7. Gate of All Nations - Construction started in 486 BC\n",
    "\n",
    "Now, historians would like to know the king who ordered to build each one of these palaces and gates. \n",
    "\n",
    "**Notes:** \n",
    "- Check this [source](https://en.wikipedia.org/wiki/Interval_(mathematics)) to understand the interval notation when describing the years of a reign.\n",
    "- You might notice that historians can provide the year of construction of each palace as an input using `int(input())`.\n",
    "- Check during the kingdom of which Achaemenid king the construction of each palace was started.\n",
    "- Print the following message, which includes the name of the Achaemenid king who ordered to build the palace: \"The construction of this palace was started during the kingdom of `king_name`\". Use the `king_d`, `king_x`, or `king_a` variables for this purpose.\n",
    "- Show to historians and print \"The year is unknown!\", if the input year is not between [522,423] BC.\n",
    "- The historians are not only interested in a single year! After printing the correct message the historians should be able to provide a new input. This should continue until `-1` is provided as input."
   ]
  },
  {
   "cell_type": "code",
   "execution_count": 12,
   "metadata": {},
   "outputs": [
    {
     "name": "stdout",
     "output_type": "stream",
     "text": [
      "The construction of this palace was started during the kingdom of Darius\n",
      "The year is unknown!\n",
      "The year is unknown!\n",
      "The year is unknown!\n",
      "The construction of this palace was started during the kingdom of Ardashir\n"
     ]
    }
   ],
   "source": [
    "#// BEGIN_TODO [construction] The Palaces of Persepolis\n",
    "# input: an integer, representing a year BC\n",
    "# output: a print statement saying if it is knowin which king was in power that year, and if so, which one \n",
    "\n",
    "# In order to output which king was in power for the input year, we need to do a few things:\n",
    "# 1) define a dictionary for each king - including their name and the Start and End dates of their reign \n",
    "# (Note, this can be done without dictionares, but then we rely on having as many if statements in the while loop as we have kings. We do not want that)\n",
    "# 2) make a list with all of the king dicts, and order them in chronological order\n",
    "# 3) make a while true loop that only breaks when we enter -1. it needs to also:\n",
    "#           - print a statement regarding the king that reigned if the input is in the king_list range of dates\n",
    "#           - print \"the year is unknown\" otherwise \n",
    "\n",
    "import sys\n",
    "# defining      name,               start    and    end       dates of their reign in individual dictionaries\n",
    "king_d:dict[str, any] = {\"name\":\"Darius\",    \"start\":522,    \"end\":486}\n",
    "king_x:dict[str, any] = {\"name\":\"Xerxes\",    \"start\":486,    \"end\":465}\n",
    "king_a:dict[str, any] = {\"name\":\"Ardashir\",  \"start\":465,    \"end\":423}\n",
    "#list of dictionaries. we will be calling from this list in order to get the name of the king and when they reigned\n",
    "king_list:list = [king_x, king_d, king_a]\n",
    "#sorts the list, by start of reign date (in reverse, since bigger number bc = earlier)\n",
    "king_list.sort(key = lambda a : a[\"start\"], reverse = True)\n",
    "\n",
    "while not False:\n",
    "    # the input is the year of construction\n",
    "    construct_year:int = int(input())\n",
    "\n",
    "    # break statement\n",
    "    if construct_year == -1: break\n",
    "\n",
    "    # essentially just \"if in between [first king's first, last king's last date)\" - giving us the full range of dates for all kings' rule\n",
    "    elif construct_year in range(int(king_list[0][\"start\"]), int(king_list[-1][\"end\"]),-1):\n",
    "\n",
    "        for i in range(len(king_list)): #ie. i runs though as many numbers as there are kings in the king_list\n",
    "            if construct_year in range(int(king_list[i][\"start\"]), int(king_list[i][\"end\"]), -1): #checks if input value is in the previously specified date range for each king, prints kings name if there's a match\n",
    "                king_name = king_list[i][\"name\"]\n",
    "                print(f\"The construction of this palace was started during the kingdom of {king_name}\")\n",
    "\n",
    "    # unknown year statement\n",
    "    else: print(\"The year is unknown!\")\n",
    "    sys.stdout.flush() #prevents output buffering \n",
    "#// END_TODO [construction]"
   ]
  },
  {
   "cell_type": "markdown",
   "metadata": {},
   "source": [
    "## Task 2: Apadana Palace\n",
    "\n",
    "Gathering the guests of the world's largest empire required a large and luxurious reception hall, and for this reason, Darius the Great built the Palace of Apadana. Apadana is the largest palace of Persepolis in terms of art, political history and architecture, and is the first Iranian building with stones.\n",
    "\n",
    "In Apadana, 72 stone columns have been used. The approximate weight of each column was 85 tons and their height was about 20 meters. In the east porch, each head of the pillar has the face of two legendary lions connected to each other, and the heads of the columns of the west porch are in the simple shape of a cow's head. The columns of the east porch are 6 pieces, while the columns of the west porch are composed of 5 pieces.\n",
    "\n",
    "<img src=\"assets/soton.jpg\" alt=\"Columns\" width=\"450\"/>\n",
    "<br>\n",
    "<div style=\"text-align:center\">\n",
    "    <span style=\"font-size:0.9em; font-weight: bold;\">Fig. 2. 19th century reconstruction of the Apadana, Persepolis by Charles Chipiez. Find the source <a href=\"https://www.khanacademy.org/humanities/ap-art-history/ancient-mediterranean-ap/ancient-near-east-a/a/persepolis\">here</a>.</span>\n",
    "</div>\n",
    "\n",
    "Now, let us solve a historian's question regarding the number of hours which is needed to build the columns for both east and west porches. If 12 columns were used in each porch, and the construction of each piece for the east and west porches took (respectively) 100 and 80 hours, what was the approximate time of construction of these 24 columns?\n",
    "\n",
    "**Notes:** \n",
    "- Define a function called `construction_time_porch` which takes all relevant variables as arguments and returns the total time to construct all columns for a porch.\n",
    "- Define two variables called `east_porch` and `west_porch` to store the construction time for all 12 columns of the east and west porches, respectively.\n",
    "- Define another variable called `total_time` to store the total number of construction hours. \n",
    "- Print the total number of hours, which was needed to build all columns for both east and west porches."
   ]
  },
  {
   "cell_type": "code",
   "execution_count": 6,
   "metadata": {},
   "outputs": [
    {
     "name": "stdout",
     "output_type": "stream",
     "text": [
      "12000\n"
     ]
    }
   ],
   "source": [
    "#// BEGIN_TODO [apadana] Apadana Palace\n",
    "# we need to find the total construction time of 24 columns. the 12 on the east porch take 100 hrs per piece (with 6 pieces per column) and the 12 on the west take 80 per piece (with 5 pieces per column)\n",
    "# we do this by doing (12*100*6) + (12*80*6)\n",
    "# to do this we define colums per porch, and how much time it takes for a single column on each porch as our inputs. \n",
    "# then, we use our function to multiply each column time with the number of columns and then add to get our output: total construction time \n",
    "\n",
    "\n",
    "def construction_time_porch(pieces:int, time:int, columns:int) -> None:\n",
    "    '''Given the time per piece, pieces per column and the number of columns, calculates the total construction time for the porch.\n",
    "    :param pieces: integer, number of pieces per column\n",
    "    :param time: integer, time that it takes (in hours) to construct a single piece\n",
    "    :Param columns: integer, number of columns in the porch\n",
    "    :returns: the total number of hours needed for the construction of the porch: (pieces*time*columns)\n",
    "    '''\n",
    "\n",
    "    porch_time:int = pieces*columns*time        # Defines the time spent on all colums in a porch\n",
    "    return (porch_time)\n",
    "\n",
    "\n",
    "\n",
    "east_pieces:int = 6; west_pieces:int = 5                # Pieces per column \n",
    "east_time:int = 100; west_time:int = 80                 # Defines time per column in each porch\n",
    "columns_per_porch:int = 12                              # Defines number of columns per porch\n",
    "total_east = construction_time_porch(east_pieces, east_time, columns_per_porch)\n",
    "total_west = construction_time_porch(west_pieces, west_time, columns_per_porch)\n",
    "total_time = total_east+total_west\n",
    "print (total_time)\n",
    "#// END_TODO [apadana]"
   ]
  },
  {
   "cell_type": "markdown",
   "metadata": {},
   "source": [
    "## Task 3: Throne Palace\n",
    "\n",
    "The Throne Palace (also called the “Hundred-Column Hall”) is the second largest palace among the palaces of Persepolis, the construction of which was started by Xerxes and completed during the reign of Ardashir I. This palace is located in the east of Apadana Palace. All 100 columns of this palace were made of wood and all of them have been burnt in the fire and only their stone foundations are left. There is a historian who believes every prime numbered column had a special marking.\n",
    "\n",
    "*Prime* numbers are integers that can only be divided by 1 and itself.<br>\n",
    "For instance, 2, 3, and 5 are *prime* numbers, but 4, 6, and 10 are not.\n",
    "A simple, yet not effective, way to discover works like this:\n",
    "* Select a candidate number\n",
    "* Check if such number is divisible between another number smaller than itself\n",
    "* If there is no such divider, the number is prime\n",
    "\n",
    "Create a program that prints all prime numbered columns from 2 up to 100. Number (2) is chosen because it is the beginning of the *prime* numbers set.\n",
    "\n",
    "**Note:** Your code should work with any two numbers as start and end points.\n",
    "\n",
    "**Hint:** consider using nested `while`-loops and `break` to solve this problem.\n",
    "\n",
    "**Example:**  \n",
    "*Input:*  \n",
    "```python\n",
    "start = 2\n",
    "end = 100\n",
    "```\n",
    "\n",
    "*Output:*  \n",
    "<pre>\n",
    "column 2 is prime\n",
    "column 3 is prime\n",
    "column 5 is prime\n",
    "column 7 is prime\n",
    "    .\n",
    "    .\n",
    "    .\n",
    "</pre>"
   ]
  },
  {
   "cell_type": "code",
   "execution_count": 19,
   "metadata": {},
   "outputs": [
    {
     "name": "stdout",
     "output_type": "stream",
     "text": [
      "Column 2 is prime\n",
      "Column 3 is prime\n",
      "Column 5 is prime\n",
      "Column 7 is prime\n",
      "Column 11 is prime\n",
      "Column 13 is prime\n",
      "Column 17 is prime\n",
      "Column 19 is prime\n",
      "Column 23 is prime\n",
      "Column 29 is prime\n",
      "Column 31 is prime\n",
      "Column 37 is prime\n",
      "Column 41 is prime\n",
      "Column 43 is prime\n",
      "Column 47 is prime\n",
      "Column 53 is prime\n",
      "Column 59 is prime\n",
      "Column 61 is prime\n",
      "Column 67 is prime\n",
      "Column 71 is prime\n",
      "Column 73 is prime\n",
      "Column 79 is prime\n",
      "Column 83 is prime\n",
      "Column 89 is prime\n",
      "Column 97 is prime\n"
     ]
    }
   ],
   "source": [
    "#// BEGIN_TODO [throne] Throne Palace\n",
    "#problem: finding prime numbers\n",
    "#inputs: start, end number\n",
    "#output: a print statement for each number between (AND INCLUDING) the two numbers\n",
    "#solution: for every number n between [start, end], divide them by every number between [2, n) and see if it is divisible. if there are no perfect divisions, the number is prime\n",
    "\n",
    "def prime_search (current:int,last:int) -> None:\n",
    "    '''Given a start and end column, this function prints all prime columns between [start,end]\n",
    "    :param current: integer, start point\n",
    "    :param last: integer, end point\n",
    "    :returns: None\n",
    "    :prints: \"Column 'n' is prime\" for every prime numner between current and last, where n is a prime number between current and last (including current and last) \n",
    "    '''\n",
    "    for number in range (current, last+(last-current)//abs(last-current), (last-current)//abs(last-current)):   #from [current to last] (also works if last is smaller than current)\n",
    "        \n",
    "        prime = True  \n",
    "        for denominator in range(2, number):        #from [2, number]. We already know that the number is divisible by itself and 1, so we only needinfo on the values between\n",
    "            remainder:int = number%denominator\n",
    "            if not remainder: \n",
    "                prime = False; break                #if a perfect division is found, the number is known to not be prime\n",
    "        \n",
    "        if prime and number > 1:                    #definition of prime: if no perfect divisions between (1,number) AND it's greater than 1\n",
    "            print (f\"Column {number} is prime\")     #if the number of additional divisions is 0, it is prime\n",
    "\n",
    "start:int = 2; end:int = 100\n",
    "prime_search(start,end)\n",
    "#// END_TODO [throne]"
   ]
  },
  {
   "cell_type": "markdown",
   "metadata": {},
   "source": [
    "## Task 4: Columns of Persepolis\n",
    "\n",
    "In Persepolis, there are more than 10 large palaces with royal architecture, all of which were very magnificent and had columned halls. Of the 890 columns that supported the heavy roofs of these halls, two-thirds were made of wood, and the rest, which numbered nearly three hundred, were all made of stone.\n",
    "\n",
    "Shaping and stacking columns of 5 to 25 meters high with huge boulders that are carefully glued together without any mortar between them is one of the brilliant engineering skills. Persepolis is truly an architectural masterpiece. But the first question that usually arises for every visitor to Persepolis is how the engineers of that time moved, lifted, and stacked huge boulders and multi-layered columns?\n",
    "\n",
    "<img src=\"assets/columns.jpg\" alt=\"Columns\" width=\"450\"/>\n",
    "<br>\n",
    "<div style=\"text-align:center\">\n",
    "    <span style=\"font-size:0.9em; font-weight: bold;\">Fig. 2. The columns of Apadana palace. Find the source <a href=\"http://siavoushan.com/en/articles/articles-root/psychoanalysis/357-flibidinal-being-in-persepolis-an-archaeoanalytical-perspective.html\">here</a>.</span>\n",
    "</div>\n",
    "\n",
    "Some experts believe that the parts of the columns were lifted and installed using three-spool and composite cranes.\n",
    "\n",
    "The performance of devices such as composite spools can be described by the concept of mechanical advantage. Mechanical advantage is the ratio of output force to input force. The mechanical advantage of the composite spool system (first mentioned in Greek works) depends on the number of spools. Thus, for example, the system consisting of three spools provides a mechanical advantage of 3 to 1. This means that 3 kg can be moved with 1 kg of force.\n",
    "\n",
    "Other tools used for pulling with ropes were well wheels or winches. These tools were invented almost at the same time as composite spools. Winches are of two types: (1) with a horizontal axis like a normal well wheel (horizontal winch) and (2) with a vertical axis like an extraction wheel (vertical winch). The mechanical advantage of both of these devices is described based on the ratio of the length of the handles to the radius of the axis. Thus, the mechanical advantage of a horizontal winch, for example, with a handle length of 60 cm and a shaft radius of 15 cm is 4 to 1, and the mechanical advantage of a vertical winch with a handle length of 100 cm and a radius of 20 cm is 5 to 1.\n",
    "\n",
    "Historians combine and have a crane consist of a triple composite spool system (with mechanical advantage 3) with a horizontal winch (with mechanical advantage 4) and a vertical winch (with mechanical advantage 5). One worker provides 50 kg in force except with decorated columns in which case they need to be careful and only supply 30 kg in force. Historians would like to know how much load can be carried in different situations.\n",
    "\n",
    "**Notes:** \n",
    "- Define a variable called `total_mechanical_advantage` to store the total amount of mechanical advantage provided by the crane\n",
    "- Define a function called `total_force` that returns the amount of load that can be lifted by the crane given:\n",
    "    - The mechanical advantage\n",
    "    - The amount of workers\n",
    "    - That the workers are being careful or not\n",
    "- Define a variable called `crane` to store the amount of load that can be lifted by the crane with two careful workers\n",
    "- Print the load that can be lifted by the crane.\n"
   ]
  },
  {
   "cell_type": "code",
   "execution_count": 1,
   "metadata": {},
   "outputs": [
    {
     "data": {
      "text/plain": [
       "3600"
      ]
     },
     "execution_count": 1,
     "metadata": {},
     "output_type": "execute_result"
    }
   ],
   "source": [
    "#// BEGIN_TODO [lift_stones] Throne Palace\n",
    "# We have to calculate the total force output of a lifting system, given the total mechanical advantage of a crane, the number of workers, and whether or not they are careful\n",
    "# output: a positive integer\n",
    "# formula: we multiply total mechanical advantage * workers * force per worker <- (30 if careful, 50 if not)\n",
    "\n",
    "def total_force(advantage:int, workers:int, care:bool) -> int:\n",
    "    '''Prints value of total force output based on: total advantage, number of workers, and whether or not they are careful.\n",
    "    :param advantage: integer, total mechanical advantage of the system\n",
    "    :param workers: integer, number of workers\n",
    "    :param care: bool, whether or not the workers are careful\n",
    "    :returns: integer, the total force that the workers are capable of lifting using the system\n",
    "    '''\n",
    "    \n",
    "    care_value:dict[bool,int] = {True : 30, False: 50}\n",
    "    input_force:int = care_value[care]                                  # Defines what force is applied based on if the workers are careful or not (using a dict to avoid using if statements)\n",
    "\n",
    "    crane = workers*advantage*input_force                               # calculates total output force in kg\n",
    "    return(crane)\n",
    "\n",
    "comp_spool:int = 3; horiz_winch:int = 4; vert_witch:int = 5             # defines the mechanical advantage provided by each of the mechanisms present\n",
    "total_mechanical_advantage:int = comp_spool * horiz_winch * vert_witch  # gets total mechanical advantage by multiplying the multipliers of the individual parts of the whole structure\n",
    "\n",
    "worker_num:int = 2; careful:bool = True                                 # defines number of workers and if they are careful\n",
    "\n",
    "total_force(total_mechanical_advantage, worker_num, careful)\n",
    "#// END_TODO [lift_stones]"
   ]
  },
  {
   "cell_type": "markdown",
   "metadata": {},
   "source": [
    "## Task 5: Crane\n",
    "\n",
    "Well Done!!! \n",
    "\n",
    "After computing the load that can be lifted by the crane, one of the historians, raised a new inquiry: if one worker is added to the group on each day of a week to work with the crane, how many kg can be lifted during each day of the week?\n",
    "\n",
    "\n",
    "**Notes:** \n",
    "- One worker works with the crane on the first day of the week, and 7 workers work together on the last day of the week.\n",
    "- Assuming that the first day counts as day 1: the workers needs to be careful on even days\n",
    "- Print the load that can be lifted by the crane on each day of the week, with a one-second delay between each print.\n",
    "- Assume that the execution of the loop takes 0 seconds."
   ]
  },
  {
   "cell_type": "code",
   "execution_count": 3,
   "metadata": {},
   "outputs": [
    {
     "name": "stdout",
     "output_type": "stream",
     "text": [
      "3000\n",
      "3600\n",
      "9000\n",
      "7200\n",
      "15000\n",
      "10800\n",
      "21000\n"
     ]
    }
   ],
   "source": [
    "#// BEGIN_TODO [crane] Crane\n",
    "# if a worker is added every day for a week (starting at 1, going up to 7), and workers are careful on even days, we need to figure out how much can be lifted during each day of the week. \n",
    "# there needs to be one second between print statements\n",
    "# inputs: total number of days\n",
    "# outputs: 7 print statements, separated by one second\n",
    "# method: use a for loop from [1,7] to define number of workers \"worker\". Define that workers are careful when \"worker\" is even, and call the function \"total_force\" once per iteration. have a sleep statement at the end of the loop\n",
    "\n",
    "import time         #import time to use sleep function\n",
    "total_days:int = 7  #define the total number of days for the project\n",
    "\n",
    "for worker in range(1,total_days+1):                                #from [1->7]\n",
    "    \n",
    "    careful:bool = not worker%2                                     #defines that the workers are only careful on even days; otherwise not\n",
    "\n",
    "    out = total_force(total_mechanical_advantage, worker, careful)  #calls total force function, and stores it as \"out\"\n",
    "    print(out)                                                      #prints \"out\"\n",
    "\n",
    "    if worker != total_days: time.sleep(1)                          #sleeps for 1 second at the end if there are iterations after this one\n",
    "\n",
    "#// END_TODO [crane]"
   ]
  },
  {
   "cell_type": "markdown",
   "metadata": {},
   "source": [
    "---\n",
    "\n",
    "# (End of Notebook)\n",
    "\n",
    "&copy; 2020-2022 - **TU/e** - **VU Amsterdam**"
   ]
  }
 ],
 "metadata": {
  "anaconda-cloud": {},
  "kernelspec": {
   "display_name": "Python 3.9.12 ('base')",
   "language": "python",
   "name": "python3"
  },
  "language_info": {
   "codemirror_mode": {
    "name": "ipython",
    "version": 3
   },
   "file_extension": ".py",
   "mimetype": "text/x-python",
   "name": "python",
   "nbconvert_exporter": "python",
   "pygments_lexer": "ipython3",
   "version": "3.9.12"
  },
  "vscode": {
   "interpreter": {
    "hash": "4c7d6fe635d46e8fcb5c48113f8c7f0313515130f4f48f2719b7e74c52a1887f"
   }
  }
 },
 "nbformat": 4,
 "nbformat_minor": 4
}
